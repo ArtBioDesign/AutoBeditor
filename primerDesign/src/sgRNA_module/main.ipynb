{
 "cells": [
  {
   "cell_type": "code",
   "execution_count": 1,
   "id": "4ed4fc2c",
   "metadata": {},
   "outputs": [
    {
     "ename": "ModuleNotFoundError",
     "evalue": "No module named 'sgRNA_module'",
     "output_type": "error",
     "traceback": [
      "\u001b[0;31m---------------------------------------------------------------------------\u001b[0m",
      "\u001b[0;31mModuleNotFoundError\u001b[0m                       Traceback (most recent call last)",
      "\u001b[0;32m<ipython-input-1-025aac526e8b>\u001b[0m in \u001b[0;36m<module>\u001b[0;34m\u001b[0m\n\u001b[1;32m      4\u001b[0m \u001b[0;32mimport\u001b[0m \u001b[0msys\u001b[0m\u001b[0;34m,\u001b[0m\u001b[0mos\u001b[0m\u001b[0;34m\u001b[0m\u001b[0m\n\u001b[1;32m      5\u001b[0m \u001b[0;34m\u001b[0m\u001b[0m\n\u001b[0;32m----> 6\u001b[0;31m \u001b[0;32mfrom\u001b[0m \u001b[0msgRNA_module\u001b[0m \u001b[0;32mimport\u001b[0m \u001b[0msequencing_primer\u001b[0m\u001b[0;34m\u001b[0m\u001b[0m\n\u001b[0m\u001b[1;32m      7\u001b[0m \u001b[0;32mimport\u001b[0m \u001b[0msgRNA_utils\u001b[0m\u001b[0;34m.\u001b[0m\u001b[0msgRNA_primer_util\u001b[0m  \u001b[0;32mas\u001b[0m \u001b[0msu\u001b[0m\u001b[0;34m\u001b[0m\u001b[0m\n\u001b[1;32m      8\u001b[0m \u001b[0;32mfrom\u001b[0m \u001b[0msgRNA_utils\u001b[0m\u001b[0;34m.\u001b[0m\u001b[0msgRNA_primer_config\u001b[0m \u001b[0;32mimport\u001b[0m \u001b[0mconfig\u001b[0m\u001b[0;34m\u001b[0m\u001b[0m\n",
      "\u001b[0;31mModuleNotFoundError\u001b[0m: No module named 'sgRNA_module'"
     ]
    }
   ],
   "source": [
    "import warnings\n",
    "warnings.filterwarnings(\"ignore\", category=Warning)\n",
    "import pandas as pd\n",
    "import sys,os\n",
    "\n",
    "from sgRNA_module import sequencing_primer\n",
    "import sgRNA_utils.sgRNA_primer_util  as su\n",
    "from sgRNA_utils.sgRNA_primer_config import config\n",
    "\n",
    "\n",
    "sys.path.append('/home/yanghe/githubcode/beditor/sgRNA_primer.src')\n",
    "import sgRNA_utils.sgRNA_primer_util as su\n",
    "import sgRNA_module.desgin_sgRNA_primer as sr\n",
    "\n",
    "sys.path.append('/home/yanghe/githubcode/beditor/super_beditor/')\n",
    "import pipeline \n",
    "import pandas as pd\n",
    "from Bio import SeqIO \n",
    "import re  "
   ]
  },
  {
   "cell_type": "code",
   "execution_count": null,
   "id": "809df41d",
   "metadata": {},
   "outputs": [],
   "source": []
  },
  {
   "cell_type": "code",
   "execution_count": null,
   "id": "65080b51",
   "metadata": {},
   "outputs": [],
   "source": []
  },
  {
   "cell_type": "code",
   "execution_count": null,
   "id": "5c58a7e7",
   "metadata": {},
   "outputs": [],
   "source": []
  },
  {
   "cell_type": "code",
   "execution_count": null,
   "id": "ece0488a",
   "metadata": {},
   "outputs": [],
   "source": [
    "import pandas as pd\n",
    "df = pd.read_csv(\" /hpcfs/fhome/yangchh/editSeqDesign/self/AutoBeditor/beditor/output/yb01/04_offtargets/dofftargets.tsv \")"
   ]
  },
  {
   "cell_type": "markdown",
   "id": "7079cb5c",
   "metadata": {},
   "source": [
    "## 一、操作真核生物的流程"
   ]
  },
  {
   "cell_type": "markdown",
   "id": "375ea3ec",
   "metadata": {},
   "source": [
    "## 1.上传文件\n",
    "/home/yanghe/primer/editor_gene/temp/Saccharomyces_cerevisiae/"
   ]
  },
  {
   "cell_type": "markdown",
   "id": "01d5de1f",
   "metadata": {},
   "source": [
    "## 2.编写突变信息"
   ]
  },
  {
   "cell_type": "code",
   "execution_count": 234,
   "id": "49df717d",
   "metadata": {},
   "outputs": [],
   "source": [
    "df = pd.DataFrame(data=[['NC_001133.9:8706-8706-','G'],\n",
    "                        ['NC_001133.9:8755-8755-','G'],\n",
    "                        ['NC_001133.9:8951-8951-','G'],\n",
    "                        ['NC_001133.9:8979-8979-','G']\n",
    "                       ]\n",
    "                  ,columns=['genome coordinate','nucleotide mutation'])\n",
    "df.to_csv('../../input_output/input_Saccharomyces_cerevisiae.tsv',index=False,sep='\\t')  "
   ]
  },
  {
   "cell_type": "code",
   "execution_count": 235,
   "id": "c89d6f1c",
   "metadata": {},
   "outputs": [
    {
     "data": {
      "text/html": [
       "<div>\n",
       "<style scoped>\n",
       "    .dataframe tbody tr th:only-of-type {\n",
       "        vertical-align: middle;\n",
       "    }\n",
       "\n",
       "    .dataframe tbody tr th {\n",
       "        vertical-align: top;\n",
       "    }\n",
       "\n",
       "    .dataframe thead th {\n",
       "        text-align: right;\n",
       "    }\n",
       "</style>\n",
       "<table border=\"1\" class=\"dataframe\">\n",
       "  <thead>\n",
       "    <tr style=\"text-align: right;\">\n",
       "      <th></th>\n",
       "      <th>genome coordinate</th>\n",
       "      <th>nucleotide mutation</th>\n",
       "    </tr>\n",
       "  </thead>\n",
       "  <tbody>\n",
       "    <tr>\n",
       "      <th>0</th>\n",
       "      <td>NC_001133.9:8706-8706-</td>\n",
       "      <td>G</td>\n",
       "    </tr>\n",
       "    <tr>\n",
       "      <th>1</th>\n",
       "      <td>NC_001133.9:8755-8755-</td>\n",
       "      <td>G</td>\n",
       "    </tr>\n",
       "    <tr>\n",
       "      <th>2</th>\n",
       "      <td>NC_001133.9:8951-8951-</td>\n",
       "      <td>G</td>\n",
       "    </tr>\n",
       "    <tr>\n",
       "      <th>3</th>\n",
       "      <td>NC_001133.9:8979-8979-</td>\n",
       "      <td>G</td>\n",
       "    </tr>\n",
       "  </tbody>\n",
       "</table>\n",
       "</div>"
      ],
      "text/plain": [
       "        genome coordinate nucleotide mutation\n",
       "0  NC_001133.9:8706-8706-                   G\n",
       "1  NC_001133.9:8755-8755-                   G\n",
       "2  NC_001133.9:8951-8951-                   G\n",
       "3  NC_001133.9:8979-8979-                   G"
      ]
     },
     "execution_count": 235,
     "metadata": {},
     "output_type": "execute_result"
    }
   ],
   "source": [
    "df \"genome_ncbi\": \"NC_001133.9\",   #基因组上位置号    "
   ]
  },
  {
   "cell_type": "markdown",
   "id": "bd5ac975",
   "metadata": {},
   "source": [
    "## 3.编写配置文件"
   ]
  },
  {
   "cell_type": "code",
   "execution_count": 253,
   "id": "cc29aa62",
   "metadata": {},
   "outputs": [],
   "source": [
    "import yaml\n",
    "data = {\n",
    "    \"dinp\": \"/home/yanghe/githubcode/beditor/sgRNA_primer/input_output/input_Saccharomyces_cerevisiae.tsv\",\n",
    "    \"genome_fna_path\":\"/home/yanghe/githubcode/beditor/sgRNA_primer/temp/Saccharomyces_cerevisiae/GCF_000146045.2_R64_genomic.fna\",\n",
    "    \"genome_gff_path\":\"/home/yanghe/githubcode/beditor/sgRNA_primer/temp/Saccharomyces_cerevisiae/GCF_000146045.2_R64_genomic.gff\",\n",
    "    \"plasmid_gb_path\":\"/home/yanghe/githubcode/beditor/sgRNA_primer/temp/alsD-28a1.gb\",\n",
    "    \n",
    "    \"reverse_mutations\":False,       #'nucleotide wild-type', 'nucleotide mutation'交换顺序\n",
    "    \"host\": \"Saccharomyces_cerevisiae\", #基因组名字\n",
    "    \"genome_release\": 'GCF_000204275.1', #基因组版本号\n",
    "    \n",
    "    \"mutation_format\": \"nucleotide\",  #突变的形式式：氨基酸、核苷酸\n",
    "    \"mutation_type\":\"N\",           #S:突变前的氨基酸与突变后的氨基酸是一样的，N:----不一样  S:一样\n",
    "    \"mutations\":\"mutations\",   \n",
    "\n",
    "    \n",
    "    \"max_subs_per_codon\": 1,       #A--G,A--C,A--T...   一个密码子中突变的核苷酸数量\n",
    "    \"BEs\": ['ABE7.9'],  \n",
    "    \"keep_mutation_nonsense\": False,    #无意义突变，突变成终止密码子\n",
    "    \"dsubmap_preferred_path\":\"\",   \n",
    "    \"mimetism_level\": \"medium\",\n",
    "    \"pams\":['NGG'],\n",
    "    \"non_intermutables\": [],  #if ['S','T','K'] is provided all mutations between thsese amino acids are disallowed\n",
    "    \"cores\": 6,\n",
    "    \"chunksize\":200,\n",
    "    \"bedtools\":'bedtools',  #序列提取工具\n",
    "    \"bwa\":'bwa',    #序列比对工具\n",
    "    \"samtools\":'samtools'   #处理序列比对后的工具\n",
    "    }\n",
    "with open('../../input_output/Saccharomyces_cerevisiae.yml', 'w') as outfile:\n",
    "    yaml.dump(data, outfile, default_flow_style=False)  "
   ]
  },
  {
   "cell_type": "code",
   "execution_count": null,
   "id": "964bab91",
   "metadata": {},
   "outputs": [],
   "source": [
    "import yaml\n",
    "data = {\n",
    "    \"dinp\": \"/home/yanghe/githubcode/beditor/sgRNA_primer/input_output/input_Saccharomyces_cerevisiae.tsv\",\n",
    "    \"genome_fna_path\":\"/home/yanghe/githubcode/beditor/sgRNA_primer/temp/Saccharomyces_cerevisiae/GCF_000146045.2_R64_genomic.fna\",\n",
    "    \"genome_gff_path\":\"/home/yanghe/githubcode/beditor/sgRNA_primer/temp/Saccharomyces_cerevisiae/GCF_000146045.2_R64_genomic.gff\",\n",
    "    \"plasmid_gb_path\":\"/home/yanghe/githubcode/beditor/sgRNA_primer/temp/alsD-28a1.gb\",\n",
    "    \"host\": \"Saccharomyces_cerevisiae\", #基因组名字\n",
    "    \"genome_release\": 'GCF_000204275.1', #基因组版本号\n",
    "    \"mutation_format\": \"nucleotide\",  #突变的形式式：氨基酸、核苷酸\n",
    "    \"BEs\": ['ABE7.9'],  \n",
    "    \"pams\":['NGG'],\n",
    "    \"bedtools\":'bedtools',  #序列提取工具\n",
    "    \"bwa\":'bwa',    #序列比对工具\n",
    "    \"samtools\":'samtools'   #处理序列比对后的工具\n",
    "    }\n",
    "with open('../../input_output/Saccharomyces_cerevisiae.yml', 'w') as outfile:\n",
    "    yaml.dump(data, outfile, default_flow_style=False)  "
   ]
  },
  {
   "cell_type": "code",
   "execution_count": 272,
   "id": "06d285c7",
   "metadata": {},
   "outputs": [],
   "source": [
    "a ='AGATTTTTCGATGAACAAGAGTATCGGATCAATGAAAAGGAAAGA'"
   ]
  },
  {
   "cell_type": "code",
   "execution_count": 273,
   "id": "44232ed6",
   "metadata": {},
   "outputs": [
    {
     "data": {
      "text/plain": [
       "'TAT'"
      ]
     },
     "execution_count": 273,
     "metadata": {},
     "output_type": "execute_result"
    }
   ],
   "source": [
    "a[21:24]"
   ]
  },
  {
   "cell_type": "code",
   "execution_count": 7,
   "id": "c831171e",
   "metadata": {},
   "outputs": [],
   "source": [
    "info = pd.DataFrame(data=[['dinp','突变信息tsv文件的地址'],\n",
    "                  ['genome_fna_path','基因组fna文件地址'],\n",
    "                  ['genome_gff_path','基因组gff文件地址'],\n",
    "                  ['plasmid_gb_path','质粒模板gb文件地址'],\n",
    "                  ['host','基因组的名字'],\n",
    "                  ['genome_release','基因组版本号'],\n",
    "                  ['BEs','可选的碱基编辑器'],\n",
    "                  ['pams','PAM序列'],\n",
    "                  ],columns=['配置字段','注释'])"
   ]
  },
  {
   "cell_type": "code",
   "execution_count": 8,
   "id": "11c84d3e",
   "metadata": {},
   "outputs": [
    {
     "data": {
      "text/html": [
       "<div>\n",
       "<style scoped>\n",
       "    .dataframe tbody tr th:only-of-type {\n",
       "        vertical-align: middle;\n",
       "    }\n",
       "\n",
       "    .dataframe tbody tr th {\n",
       "        vertical-align: top;\n",
       "    }\n",
       "\n",
       "    .dataframe thead th {\n",
       "        text-align: right;\n",
       "    }\n",
       "</style>\n",
       "<table border=\"1\" class=\"dataframe\">\n",
       "  <thead>\n",
       "    <tr style=\"text-align: right;\">\n",
       "      <th></th>\n",
       "      <th>配置字段</th>\n",
       "      <th>注释</th>\n",
       "    </tr>\n",
       "  </thead>\n",
       "  <tbody>\n",
       "    <tr>\n",
       "      <th>0</th>\n",
       "      <td>dinp</td>\n",
       "      <td>突变信息tsv文件的地址</td>\n",
       "    </tr>\n",
       "    <tr>\n",
       "      <th>1</th>\n",
       "      <td>genome_fna_path</td>\n",
       "      <td>基因组fna文件地址</td>\n",
       "    </tr>\n",
       "    <tr>\n",
       "      <th>2</th>\n",
       "      <td>genome_gff_path</td>\n",
       "      <td>基因组gff文件地址</td>\n",
       "    </tr>\n",
       "    <tr>\n",
       "      <th>3</th>\n",
       "      <td>plasmid_gb_path</td>\n",
       "      <td>质粒模板gb文件地址</td>\n",
       "    </tr>\n",
       "    <tr>\n",
       "      <th>4</th>\n",
       "      <td>host</td>\n",
       "      <td>基因组的名字</td>\n",
       "    </tr>\n",
       "    <tr>\n",
       "      <th>5</th>\n",
       "      <td>genome_release</td>\n",
       "      <td>基因组版本号</td>\n",
       "    </tr>\n",
       "    <tr>\n",
       "      <th>6</th>\n",
       "      <td>BEs</td>\n",
       "      <td>可选的碱基编辑器</td>\n",
       "    </tr>\n",
       "    <tr>\n",
       "      <th>7</th>\n",
       "      <td>pams</td>\n",
       "      <td>PAM序列</td>\n",
       "    </tr>\n",
       "  </tbody>\n",
       "</table>\n",
       "</div>"
      ],
      "text/plain": [
       "              配置字段            注释\n",
       "0             dinp  突变信息tsv文件的地址\n",
       "1  genome_fna_path    基因组fna文件地址\n",
       "2  genome_gff_path    基因组gff文件地址\n",
       "3  plasmid_gb_path    质粒模板gb文件地址\n",
       "4             host        基因组的名字\n",
       "5   genome_release        基因组版本号\n",
       "6              BEs      可选的碱基编辑器\n",
       "7             pams         PAM序列"
      ]
     },
     "execution_count": 8,
     "metadata": {},
     "output_type": "execute_result"
    }
   ],
   "source": [
    "info"
   ]
  },
  {
   "cell_type": "markdown",
   "id": "1427d705",
   "metadata": {},
   "source": [
    "## 4.调用super_beditor"
   ]
  },
  {
   "cell_type": "code",
   "execution_count": 4,
   "id": "afd12247",
   "metadata": {},
   "outputs": [
    {
     "name": "stderr",
     "output_type": "stream",
     "text": [
      "INFO:root:bwa index is present\n",
      "INFO:root:samtools index is present\n",
      "INFO:root:sizes of contigs are present\n"
     ]
    },
    {
     "name": "stdout",
     "output_type": "stream",
     "text": [
      "['../../input_output/Saccharomyces_cerevisiae/chunks/din_chunk00000001.tsv']\n",
      "2022_11_15_03_20_22_806353: processing: 1 chunks.\n"
     ]
    },
    {
     "name": "stderr",
     "output_type": "stream",
     "text": [
      "INFO:root:Outputs are located at ../../input_output/Saccharomyces_cerevisiae/05_output\n"
     ]
    },
    {
     "name": "stdout",
     "output_type": "stream",
     "text": [
      "2022_11_15_03_20_22_962769: collecting chunks\n",
      "2022_11_15_03_20_22_963869: generating outputs\n"
     ]
    }
   ],
   "source": [
    "pipeline.pipeline(\"../../input_output/Saccharomyces_cerevisiae.yml\")"
   ]
  },
  {
   "cell_type": "markdown",
   "id": "a2b1e625",
   "metadata": {},
   "source": [
    "## 5.读取设计出的gRNA信息"
   ]
  },
  {
   "cell_type": "code",
   "execution_count": 2,
   "id": "687bb00a",
   "metadata": {},
   "outputs": [],
   "source": [
    "sgRNA_df = su.del_Unnamed(pd.read_csv(\"/home/yanghe/githubcode/beditor/sgRNA_primer/input_output/Saccharomyces_cerevisiae/05_output/doutput.tsv\",sep='\\t',keep_default_na=False))"
   ]
  },
  {
   "cell_type": "code",
   "execution_count": null,
   "id": "f3553a54",
   "metadata": {},
   "outputs": [],
   "source": []
  },
  {
   "cell_type": "markdown",
   "id": "acaa2e13",
   "metadata": {},
   "source": [
    "## 6.设计相关的引物（sgRNA的oligo、sgRNA重组载体引物、碱基编辑的测序引物）"
   ]
  },
  {
   "cell_type": "code",
   "execution_count": 6,
   "id": "f92147ca",
   "metadata": {},
   "outputs": [
    {
     "name": "stdout",
     "output_type": "stream",
     "text": [
      "guide: id\n",
      "guide: id\n"
     ]
    }
   ],
   "source": [
    "    \n",
    "    #加载gb文件读取序列信息\n",
    "    gb = SeqIO.read('/home/yanghe/githubcode/beditor/sgRNA_primer/temp/alsD-28a1.gb', \"genbank\")   \n",
    "    gb_strand_seq = str(gb.seq)\n",
    "    gb_re_strand_seq = su.revComp(gb_strand_seq)\n",
    "    gb_seq_tuple = (gb_strand_seq,gb_re_strand_seq)\n",
    "    \n",
    "    #加载酶信息\n",
    "    enzyme_df = pd.read_csv('/home/yanghe/githubcode/beditor/sgRNA_primer/input_output/enzyme.csv') \n",
    "    #搜索可用酶\n",
    "    enzyme_in_plasmid = sr.search_enzyme_from_plasmid(enzyme_df,gb_seq_tuple,cut_num=1)\n",
    "    #判断是否有可用酶,并根据用户需求选择酶\n",
    "    final_enzyme = sr.judge_is_not_availability_enzyme(enzyme_in_plasmid,enzyme_name='none')\n",
    "    assert len(final_enzyme)!=0 \n",
    "      #将酶与sgRNA_df两个表整合\n",
    "    sgRNA_df = sr.merge_sgRNA_enzyme(final_enzyme,sgRNA_df)\n",
    "    #构建sgRNA的oligo\n",
    "    sgRNA_oligo_df = sr.create_sgRNA_oligo(sgRNA_df)\n",
    "    #构建sgRNA重组质粒\n",
    "    sgRNA_plasmid_df=sr.create_sgRNA_plasmid(sgRNA_df,gb_strand_seq)\n",
    "    #构建重组载体的测序引物\n",
    "    #用户自定义扩展sgRNA的坐标，0<x<2261,len(plasmid_seg)>y>2284\n",
    "    x = 2240 \n",
    "    y = 5000\n",
    "    plasmid_sequencing_primer_df = sr.create_plasmid_sequencing_primer(x,y,sgRNA_plasmid_df,sequencing_primer)\n",
    "    \n",
    "    #构建碱基编辑的测序引物\n",
    "        #取出基因组上突变位点的前后600bp\n",
    "    genome_fna_path=\"/home/yanghe/githubcode/beditor/super_beditor/pub/GCF_000204275.1/fasta/saccharomyces_cerevisiae/dna/genome.fna\" \n",
    "    sgRNA_plasmid_600bp_df = sr.extract_forward_backward_600bp_from_genome(sgRNA_plasmid_df,genome_fna_path) \n",
    "    editor_sequencing_df = sr.create_editor_sequencing_primer(sgRNA_plasmid_600bp_df,util)\n",
    "    \n",
    "    #输出\n",
    "    sheetname2df = {'sgRNA_info':sgRNA_df,'sgRNA_oligo':sgRNA_oligo_df,'editor_sequencing':editor_sequencing_df,'plasmid_sequencing':plasmid_sequencing_primer_df}\n",
    "    datap = \"/home/yanghe/githubcode/beditor/sgRNA_primer/input_output/superBeditor_sgRNA_primer_output.xlsx\"\n",
    "    su.to_excel(sheetname2df,datap,)"
   ]
  },
  {
   "cell_type": "code",
   "execution_count": null,
   "id": "1f5c9fce",
   "metadata": {},
   "outputs": [],
   "source": []
  },
  {
   "cell_type": "code",
   "execution_count": 4,
   "id": "a8f45348",
   "metadata": {},
   "outputs": [
    {
     "data": {
      "text/html": [
       "<div>\n",
       "<style scoped>\n",
       "    .dataframe tbody tr th:only-of-type {\n",
       "        vertical-align: middle;\n",
       "    }\n",
       "\n",
       "    .dataframe tbody tr th {\n",
       "        vertical-align: top;\n",
       "    }\n",
       "\n",
       "    .dataframe thead th {\n",
       "        text-align: right;\n",
       "    }\n",
       "</style>\n",
       "<table border=\"1\" class=\"dataframe\">\n",
       "  <thead>\n",
       "    <tr style=\"text-align: right;\">\n",
       "      <th></th>\n",
       "      <th>guide: id</th>\n",
       "      <th>sgRNA_oligo+</th>\n",
       "      <th>sgRNA_oligo-</th>\n",
       "    </tr>\n",
       "  </thead>\n",
       "  <tbody>\n",
       "    <tr>\n",
       "      <th>0</th>\n",
       "      <td>NC_001133.9:8706-8706-|ABE7.9|+|A:G|TAT:TGT|nu...</td>\n",
       "      <td>AGCAGAGTATCGGATCAATGAAA</td>\n",
       "      <td>CCCTTTCATTGATCCGATACTCT</td>\n",
       "    </tr>\n",
       "    <tr>\n",
       "      <th>2</th>\n",
       "      <td>NC_001133.9:8951-8951-|ABE7.9|+|A:G|CAG:CGG|nu...</td>\n",
       "      <td>AGCTATTCCAGTAAAGCGGCAGG</td>\n",
       "      <td>CCCCCTGCCGCTTTACTGGAATA</td>\n",
       "    </tr>\n",
       "    <tr>\n",
       "      <th>3</th>\n",
       "      <td>NC_001133.9:8979-8979-|ABE7.9|+|A:G|TAC:TGC|nu...</td>\n",
       "      <td>AGCATCCTTACAAAAGACTAAAA</td>\n",
       "      <td>CCCTTTTAGTCTTTTGTAAGGAT</td>\n",
       "    </tr>\n",
       "  </tbody>\n",
       "</table>\n",
       "</div>"
      ],
      "text/plain": [
       "                                           guide: id             sgRNA_oligo+  \\\n",
       "0  NC_001133.9:8706-8706-|ABE7.9|+|A:G|TAT:TGT|nu...  AGCAGAGTATCGGATCAATGAAA   \n",
       "2  NC_001133.9:8951-8951-|ABE7.9|+|A:G|CAG:CGG|nu...  AGCTATTCCAGTAAAGCGGCAGG   \n",
       "3  NC_001133.9:8979-8979-|ABE7.9|+|A:G|TAC:TGC|nu...  AGCATCCTTACAAAAGACTAAAA   \n",
       "\n",
       "              sgRNA_oligo-  \n",
       "0  CCCTTTCATTGATCCGATACTCT  \n",
       "2  CCCCCTGCCGCTTTACTGGAATA  \n",
       "3  CCCTTTTAGTCTTTTGTAAGGAT  "
      ]
     },
     "execution_count": 4,
     "metadata": {},
     "output_type": "execute_result"
    }
   ],
   "source": [
    "sgRNA_oligo_df"
   ]
  },
  {
   "cell_type": "code",
   "execution_count": 5,
   "id": "e9bbe598",
   "metadata": {},
   "outputs": [
    {
     "data": {
      "text/html": [
       "<div>\n",
       "<style scoped>\n",
       "    .dataframe tbody tr th:only-of-type {\n",
       "        vertical-align: middle;\n",
       "    }\n",
       "\n",
       "    .dataframe tbody tr th {\n",
       "        vertical-align: top;\n",
       "    }\n",
       "\n",
       "    .dataframe thead th {\n",
       "        text-align: right;\n",
       "    }\n",
       "</style>\n",
       "<table border=\"1\" class=\"dataframe\">\n",
       "  <thead>\n",
       "    <tr style=\"text-align: right;\">\n",
       "      <th></th>\n",
       "      <th>guide: id</th>\n",
       "      <th>SEQUENCING_PRIMER_1</th>\n",
       "      <th>SEQUENCING_PRIMER_2</th>\n",
       "      <th>SEQUENCING_PRIMER_3</th>\n",
       "      <th>SEQUENCING_PRIMER_4</th>\n",
       "    </tr>\n",
       "  </thead>\n",
       "  <tbody>\n",
       "    <tr>\n",
       "      <th>0</th>\n",
       "      <td>NC_001133.9:8706-8706-|ABE7.9|+|A:G|TAT:TGT|nu...</td>\n",
       "      <td>TTGCTGGCCTTTTGCTCACA</td>\n",
       "      <td>CTGGCTCACAGGCTGATCTT</td>\n",
       "      <td>CAGAGAAAAATCACTCAGGGTCA</td>\n",
       "      <td>GGTCGAGATCCCGGTGCCTA</td>\n",
       "    </tr>\n",
       "    <tr>\n",
       "      <th>0</th>\n",
       "      <td>NC_001133.9:8951-8951-|ABE7.9|+|A:G|CAG:CGG|nu...</td>\n",
       "      <td>TTGCTGGCCTTTTGCTCACA</td>\n",
       "      <td>CTGGCTCACAGGCTGATCTT</td>\n",
       "      <td>CAGAGAAAAATCACTCAGGGTCA</td>\n",
       "      <td>GGTCGAGATCCCGGTGCCTA</td>\n",
       "    </tr>\n",
       "    <tr>\n",
       "      <th>0</th>\n",
       "      <td>NC_001133.9:8979-8979-|ABE7.9|+|A:G|TAC:TGC|nu...</td>\n",
       "      <td>TTGCTGGCCTTTTGCTCACA</td>\n",
       "      <td>CTGGCTCACAGGCTGATCTT</td>\n",
       "      <td>CAGAGAAAAATCACTCAGGGTCA</td>\n",
       "      <td>GGTCGAGATCCCGGTGCCTA</td>\n",
       "    </tr>\n",
       "  </tbody>\n",
       "</table>\n",
       "</div>"
      ],
      "text/plain": [
       "                                           guide: id   SEQUENCING_PRIMER_1  \\\n",
       "0  NC_001133.9:8706-8706-|ABE7.9|+|A:G|TAT:TGT|nu...  TTGCTGGCCTTTTGCTCACA   \n",
       "0  NC_001133.9:8951-8951-|ABE7.9|+|A:G|CAG:CGG|nu...  TTGCTGGCCTTTTGCTCACA   \n",
       "0  NC_001133.9:8979-8979-|ABE7.9|+|A:G|TAC:TGC|nu...  TTGCTGGCCTTTTGCTCACA   \n",
       "\n",
       "    SEQUENCING_PRIMER_2      SEQUENCING_PRIMER_3   SEQUENCING_PRIMER_4  \n",
       "0  CTGGCTCACAGGCTGATCTT  CAGAGAAAAATCACTCAGGGTCA  GGTCGAGATCCCGGTGCCTA  \n",
       "0  CTGGCTCACAGGCTGATCTT  CAGAGAAAAATCACTCAGGGTCA  GGTCGAGATCCCGGTGCCTA  \n",
       "0  CTGGCTCACAGGCTGATCTT  CAGAGAAAAATCACTCAGGGTCA  GGTCGAGATCCCGGTGCCTA  "
      ]
     },
     "execution_count": 5,
     "metadata": {},
     "output_type": "execute_result"
    }
   ],
   "source": [
    "plasmid_sequencing_primer_df"
   ]
  },
  {
   "cell_type": "code",
   "execution_count": 6,
   "id": "9311c3de",
   "metadata": {},
   "outputs": [
    {
     "data": {
      "text/html": [
       "<div>\n",
       "<style scoped>\n",
       "    .dataframe tbody tr th:only-of-type {\n",
       "        vertical-align: middle;\n",
       "    }\n",
       "\n",
       "    .dataframe tbody tr th {\n",
       "        vertical-align: top;\n",
       "    }\n",
       "\n",
       "    .dataframe thead th {\n",
       "        text-align: right;\n",
       "    }\n",
       "</style>\n",
       "<table border=\"1\" class=\"dataframe\">\n",
       "  <thead>\n",
       "    <tr style=\"text-align: right;\">\n",
       "      <th></th>\n",
       "      <th>guide: id</th>\n",
       "      <th>SEQUENCING_PRIMER_1</th>\n",
       "      <th>SEQUENCING_PRIMER_2</th>\n",
       "    </tr>\n",
       "  </thead>\n",
       "  <tbody>\n",
       "    <tr>\n",
       "      <th>0</th>\n",
       "      <td>NC_001133.9:8706-8706-|ABE7.9|+|A:G|TAT:TGT|nu...</td>\n",
       "      <td>TGACATATGCAGCACCAACGGT</td>\n",
       "      <td>AAAGCGGCAGGTGGAAGACC</td>\n",
       "    </tr>\n",
       "    <tr>\n",
       "      <th>0</th>\n",
       "      <td>NC_001133.9:8951-8951-|ABE7.9|+|A:G|CAG:CGG|nu...</td>\n",
       "      <td>TCTCCACCATGGCCTATCGG</td>\n",
       "      <td>GCACAGTACTACGGGTGCCTCC</td>\n",
       "    </tr>\n",
       "    <tr>\n",
       "      <th>0</th>\n",
       "      <td>NC_001133.9:8979-8979-|ABE7.9|+|A:G|TAC:TGC|nu...</td>\n",
       "      <td>GGTCTTCCACCTGCCGCTTT</td>\n",
       "      <td>AGCGCAGTTTTCCGATGGTCCA</td>\n",
       "    </tr>\n",
       "  </tbody>\n",
       "</table>\n",
       "</div>"
      ],
      "text/plain": [
       "                                           guide: id     SEQUENCING_PRIMER_1  \\\n",
       "0  NC_001133.9:8706-8706-|ABE7.9|+|A:G|TAT:TGT|nu...  TGACATATGCAGCACCAACGGT   \n",
       "0  NC_001133.9:8951-8951-|ABE7.9|+|A:G|CAG:CGG|nu...    TCTCCACCATGGCCTATCGG   \n",
       "0  NC_001133.9:8979-8979-|ABE7.9|+|A:G|TAC:TGC|nu...    GGTCTTCCACCTGCCGCTTT   \n",
       "\n",
       "      SEQUENCING_PRIMER_2  \n",
       "0    AAAGCGGCAGGTGGAAGACC  \n",
       "0  GCACAGTACTACGGGTGCCTCC  \n",
       "0  AGCGCAGTTTTCCGATGGTCCA  "
      ]
     },
     "execution_count": 6,
     "metadata": {},
     "output_type": "execute_result"
    }
   ],
   "source": [
    "editor_sequencing_df"
   ]
  },
  {
   "cell_type": "code",
   "execution_count": 7,
   "id": "c6b7aa98",
   "metadata": {},
   "outputs": [],
   "source": []
  },
  {
   "cell_type": "code",
   "execution_count": null,
   "id": "8089a125",
   "metadata": {},
   "outputs": [],
   "source": []
  },
  {
   "cell_type": "code",
   "execution_count": null,
   "id": "2bd9aa2b",
   "metadata": {},
   "outputs": [],
   "source": []
  },
  {
   "cell_type": "code",
   "execution_count": 13,
   "id": "f65fd4ec",
   "metadata": {},
   "outputs": [],
   "source": []
  },
  {
   "cell_type": "code",
   "execution_count": null,
   "id": "0c0b92bf",
   "metadata": {},
   "outputs": [],
   "source": []
  },
  {
   "cell_type": "code",
   "execution_count": null,
   "id": "0da32da7",
   "metadata": {},
   "outputs": [],
   "source": []
  }
 ],
 "metadata": {
  "kernelspec": {
   "display_name": "Python 3",
   "language": "python",
   "name": "python3"
  },
  "language_info": {
   "codemirror_mode": {
    "name": "ipython",
    "version": 3
   },
   "file_extension": ".py",
   "mimetype": "text/x-python",
   "name": "python",
   "nbconvert_exporter": "python",
   "pygments_lexer": "ipython3",
   "version": "3.6.5"
  },
  "vscode": {
   "interpreter": {
    "hash": "b3baa81b88aba40ef09e84d2e8a9179af5f74fb3bfae3f5770aaf79656b278ba"
   }
  }
 },
 "nbformat": 4,
 "nbformat_minor": 5
}
